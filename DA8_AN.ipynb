{
  "nbformat": 4,
  "nbformat_minor": 0,
  "metadata": {
    "colab": {
      "provenance": []
    },
    "kernelspec": {
      "name": "python3",
      "display_name": "Python 3"
    },
    "language_info": {
      "name": "python"
    }
  },
  "cells": [
    {
      "cell_type": "code",
      "execution_count": null,
      "metadata": {
        "id": "zjSKvuH4t8DP",
        "colab": {
          "base_uri": "https://localhost:8080/"
        },
        "outputId": "1abc01e5-0b46-4ee4-fce4-1f5fb526145c"
      },
      "outputs": [
        {
          "output_type": "stream",
          "name": "stdout",
          "text": [
            "Epoch 1/50\n",
            "1/1 - 2s - loss: 2.5041 - accuracy: 0.1000 - 2s/epoch - 2s/step\n",
            "Epoch 2/50\n",
            "1/1 - 0s - loss: 2.4178 - accuracy: 0.2000 - 11ms/epoch - 11ms/step\n",
            "Epoch 3/50\n",
            "1/1 - 0s - loss: 2.3347 - accuracy: 0.3000 - 11ms/epoch - 11ms/step\n",
            "Epoch 4/50\n",
            "1/1 - 0s - loss: 2.2519 - accuracy: 0.5000 - 13ms/epoch - 13ms/step\n",
            "Epoch 5/50\n",
            "1/1 - 0s - loss: 2.1679 - accuracy: 0.5000 - 12ms/epoch - 12ms/step\n",
            "Epoch 6/50\n",
            "1/1 - 0s - loss: 2.0826 - accuracy: 0.4000 - 12ms/epoch - 12ms/step\n",
            "Epoch 7/50\n",
            "1/1 - 0s - loss: 1.9971 - accuracy: 0.4000 - 11ms/epoch - 11ms/step\n",
            "Epoch 8/50\n",
            "1/1 - 0s - loss: 1.9136 - accuracy: 0.4000 - 12ms/epoch - 12ms/step\n",
            "Epoch 9/50\n",
            "1/1 - 0s - loss: 1.8341 - accuracy: 0.4000 - 12ms/epoch - 12ms/step\n",
            "Epoch 10/50\n",
            "1/1 - 0s - loss: 1.7579 - accuracy: 0.4000 - 11ms/epoch - 11ms/step\n",
            "Epoch 11/50\n",
            "1/1 - 0s - loss: 1.6820 - accuracy: 0.4000 - 12ms/epoch - 12ms/step\n",
            "Epoch 12/50\n",
            "1/1 - 0s - loss: 1.6048 - accuracy: 0.4000 - 12ms/epoch - 12ms/step\n",
            "Epoch 13/50\n",
            "1/1 - 0s - loss: 1.5284 - accuracy: 0.4000 - 16ms/epoch - 16ms/step\n",
            "Epoch 14/50\n",
            "1/1 - 0s - loss: 1.4574 - accuracy: 0.5000 - 13ms/epoch - 13ms/step\n",
            "Epoch 15/50\n",
            "1/1 - 0s - loss: 1.3951 - accuracy: 0.7000 - 11ms/epoch - 11ms/step\n",
            "Epoch 16/50\n",
            "1/1 - 0s - loss: 1.3420 - accuracy: 0.7000 - 11ms/epoch - 11ms/step\n",
            "Epoch 17/50\n",
            "1/1 - 0s - loss: 1.2957 - accuracy: 0.7000 - 12ms/epoch - 12ms/step\n",
            "Epoch 18/50\n",
            "1/1 - 0s - loss: 1.2531 - accuracy: 0.7000 - 12ms/epoch - 12ms/step\n",
            "Epoch 19/50\n",
            "1/1 - 0s - loss: 1.2121 - accuracy: 0.7000 - 12ms/epoch - 12ms/step\n",
            "Epoch 20/50\n",
            "1/1 - 0s - loss: 1.1721 - accuracy: 0.7000 - 12ms/epoch - 12ms/step\n",
            "Epoch 21/50\n",
            "1/1 - 0s - loss: 1.1335 - accuracy: 0.7000 - 12ms/epoch - 12ms/step\n",
            "Epoch 22/50\n",
            "1/1 - 0s - loss: 1.0961 - accuracy: 0.7000 - 22ms/epoch - 22ms/step\n",
            "Epoch 23/50\n",
            "1/1 - 0s - loss: 1.0587 - accuracy: 0.7000 - 18ms/epoch - 18ms/step\n",
            "Epoch 24/50\n",
            "1/1 - 0s - loss: 1.0202 - accuracy: 0.7000 - 15ms/epoch - 15ms/step\n",
            "Epoch 25/50\n",
            "1/1 - 0s - loss: 0.9814 - accuracy: 0.7000 - 17ms/epoch - 17ms/step\n",
            "Epoch 26/50\n",
            "1/1 - 0s - loss: 0.9433 - accuracy: 0.7000 - 19ms/epoch - 19ms/step\n",
            "Epoch 27/50\n",
            "1/1 - 0s - loss: 0.9068 - accuracy: 0.7000 - 15ms/epoch - 15ms/step\n",
            "Epoch 28/50\n",
            "1/1 - 0s - loss: 0.8717 - accuracy: 0.7000 - 16ms/epoch - 16ms/step\n",
            "Epoch 29/50\n",
            "1/1 - 0s - loss: 0.8375 - accuracy: 0.7000 - 16ms/epoch - 16ms/step\n",
            "Epoch 30/50\n",
            "1/1 - 0s - loss: 0.8044 - accuracy: 0.7000 - 16ms/epoch - 16ms/step\n",
            "Epoch 31/50\n",
            "1/1 - 0s - loss: 0.7734 - accuracy: 0.7000 - 16ms/epoch - 16ms/step\n",
            "Epoch 32/50\n",
            "1/1 - 0s - loss: 0.7448 - accuracy: 0.7000 - 17ms/epoch - 17ms/step\n",
            "Epoch 33/50\n",
            "1/1 - 0s - loss: 0.7188 - accuracy: 0.8000 - 30ms/epoch - 30ms/step\n",
            "Epoch 34/50\n",
            "1/1 - 0s - loss: 0.6949 - accuracy: 0.8000 - 27ms/epoch - 27ms/step\n",
            "Epoch 35/50\n",
            "1/1 - 0s - loss: 0.6728 - accuracy: 0.8000 - 19ms/epoch - 19ms/step\n",
            "Epoch 36/50\n",
            "1/1 - 0s - loss: 0.6522 - accuracy: 0.8000 - 15ms/epoch - 15ms/step\n",
            "Epoch 37/50\n",
            "1/1 - 0s - loss: 0.6329 - accuracy: 0.8000 - 14ms/epoch - 14ms/step\n",
            "Epoch 38/50\n",
            "1/1 - 0s - loss: 0.6150 - accuracy: 0.8000 - 16ms/epoch - 16ms/step\n",
            "Epoch 39/50\n",
            "1/1 - 0s - loss: 0.5982 - accuracy: 0.8000 - 15ms/epoch - 15ms/step\n",
            "Epoch 40/50\n",
            "1/1 - 0s - loss: 0.5825 - accuracy: 0.8000 - 21ms/epoch - 21ms/step\n",
            "Epoch 41/50\n",
            "1/1 - 0s - loss: 0.5677 - accuracy: 0.8000 - 15ms/epoch - 15ms/step\n",
            "Epoch 42/50\n",
            "1/1 - 0s - loss: 0.5536 - accuracy: 0.8000 - 16ms/epoch - 16ms/step\n",
            "Epoch 43/50\n",
            "1/1 - 0s - loss: 0.5399 - accuracy: 0.8000 - 20ms/epoch - 20ms/step\n",
            "Epoch 44/50\n",
            "1/1 - 0s - loss: 0.5268 - accuracy: 0.8000 - 20ms/epoch - 20ms/step\n",
            "Epoch 45/50\n",
            "1/1 - 0s - loss: 0.5142 - accuracy: 0.8000 - 12ms/epoch - 12ms/step\n",
            "Epoch 46/50\n",
            "1/1 - 0s - loss: 0.5022 - accuracy: 0.8000 - 11ms/epoch - 11ms/step\n",
            "Epoch 47/50\n",
            "1/1 - 0s - loss: 0.4907 - accuracy: 0.8000 - 12ms/epoch - 12ms/step\n",
            "Epoch 48/50\n",
            "1/1 - 0s - loss: 0.4796 - accuracy: 0.8000 - 13ms/epoch - 13ms/step\n",
            "Epoch 49/50\n",
            "1/1 - 0s - loss: 0.4689 - accuracy: 0.8000 - 12ms/epoch - 12ms/step\n",
            "Epoch 50/50\n",
            "1/1 - 0s - loss: 0.4586 - accuracy: 0.8000 - 11ms/epoch - 11ms/step\n"
          ]
        },
        {
          "output_type": "execute_result",
          "data": {
            "text/plain": [
              "<keras.src.callbacks.History at 0x78149af23d00>"
            ]
          },
          "metadata": {},
          "execution_count": 1
        }
      ],
      "source": [
        "import numpy as np\n",
        "from keras.models import Sequential\n",
        "from keras.layers import SimpleRNN, Dense, Embedding\n",
        "from keras.preprocessing.text import Tokenizer\n",
        "from keras.preprocessing.sequence import pad_sequences\n",
        "from keras.utils import to_categorical\n",
        "\n",
        "# Generating some example sequential data\n",
        "sentences = ['I love learning','I love python','I hate school',\n",
        "             'Recurrent Neural Networks are powerful']\n",
        "# Tokenizing the words\n",
        "tokenizer = Tokenizer()\n",
        "tokenizer.fit_on_texts(sentences)\n",
        "total_words = len(tokenizer.word_index) + 1\n",
        "# Creating input sequences and their corresponding next words\n",
        "input_sequences = []\n",
        "for sentence in sentences:\n",
        "    tokenized_sentence = tokenizer.texts_to_sequences([sentence])[0]\n",
        "    for i in range(1, len(tokenized_sentence)):\n",
        "        n_gram_sequence = tokenized_sentence[:i+1]\n",
        "        input_sequences.append(n_gram_sequence)\n",
        "\n",
        "# Padding sequences for consistent input size\n",
        "max_sequence_length = max([len(seq) for seq in input_sequences])\n",
        "input_sequences = pad_sequences(input_sequences, maxlen=max_sequence_length, padding='pre')\n",
        "\n",
        "# Creating input and output data\n",
        "X, y = input_sequences[:, :-1], input_sequences[:, -1]\n",
        "y = to_categorical(y, num_classes=total_words)\n",
        "\n",
        "# Building a simple RNN model\n",
        "model = Sequential()\n",
        "model.add(Embedding(input_dim=total_words, output_dim=50, input_length=max_sequence_length-1))\n",
        "model.add(SimpleRNN(100, return_sequences=True))\n",
        "model.add(SimpleRNN(100))\n",
        "model.add(Dense(total_words, activation='softmax'))\n",
        "\n",
        "# Compiling the model\n",
        "model.compile(optimizer='adam', loss='categorical_crossentropy', metrics=['accuracy'])\n",
        "\n",
        "# Training the model\n",
        "model.fit(X, y, epochs=50, verbose=2)\n",
        "\n"
      ]
    },
    {
      "cell_type": "code",
      "source": [
        "# Generating text using the trained model\n",
        "seed_text = input(\"Enter the starting word: \")\n",
        "next_words = int(input(\"Enter how many words to predict: \"))\n",
        "\n",
        "for _ in range(next_words):\n",
        "    tokenized_seed = tokenizer.texts_to_sequences([seed_text])[0]\n",
        "    tokenized_seed = pad_sequences([tokenized_seed], maxlen=max_sequence_length-1, padding='pre')\n",
        "    predicted_word_index = np.argmax(model.predict(tokenized_seed), axis=-1)\n",
        "    predicted_word = tokenizer.index_word[predicted_word_index[0]]\n",
        "    seed_text += \" \" + predicted_word\n",
        "\n",
        "print(seed_text)"
      ],
      "metadata": {
        "colab": {
          "base_uri": "https://localhost:8080/"
        },
        "id": "7DugToamrVZq",
        "outputId": "44d142c1-9afd-4b82-c7a4-0699a62e8c8d"
      },
      "execution_count": null,
      "outputs": [
        {
          "output_type": "stream",
          "name": "stdout",
          "text": [
            "Enter the starting word: i\n",
            "Enter how many words to predict: 5\n",
            "1/1 [==============================] - 1s 507ms/step\n",
            "1/1 [==============================] - 0s 35ms/step\n",
            "1/1 [==============================] - 0s 21ms/step\n",
            "1/1 [==============================] - 0s 21ms/step\n",
            "1/1 [==============================] - 0s 21ms/step\n",
            "i love learning love learning love\n"
          ]
        }
      ]
    }
  ]
}